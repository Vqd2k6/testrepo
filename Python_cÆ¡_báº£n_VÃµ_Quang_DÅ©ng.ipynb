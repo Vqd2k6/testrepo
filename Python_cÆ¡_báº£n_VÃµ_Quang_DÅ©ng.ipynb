{
  "cells": [
    {
      "cell_type": "code",
      "execution_count": 1,
      "metadata": {
        "colab": {
          "base_uri": "https://localhost:8080/"
        },
        "id": "y3rcZ83eTiRC",
        "outputId": "87c2877f-e5b2-4e45-8f18-18347de53659"
      },
      "outputs": [
        {
          "name": "stdout",
          "output_type": "stream",
          "text": [
            "NO\n"
          ]
        }
      ],
      "source": [
        "#Bài 1 : Viết chương trình kiểm tra số nguyên tố\n",
        "\n",
        "\n",
        "n = int(input('n = '))\n",
        "if n < 2:\n",
        "  print( 'NO' )\n",
        "else:\n",
        "  for i in range( 2 , int(n**0.5) + 1 ):\n",
        "    if n%i==0 :\n",
        "      print( 'YES' )\n",
        "      break\n",
        "  else:\n",
        "    print( 'NO' )"
      ]
    },
    {
      "cell_type": "code",
      "execution_count": null,
      "metadata": {
        "colab": {
          "base_uri": "https://localhost:8080/"
        },
        "id": "4k7Wet--T1ZH",
        "outputId": "f20f79ea-bea4-43a1-ebe3-f23ac49c0935"
      },
      "outputs": [
        {
          "name": "stdout",
          "output_type": "stream",
          "text": [
            "n = 3\n",
            "2\n"
          ]
        }
      ],
      "source": [
        "#Bài 2 : Viết chương trình tính tổng các số chẵn từ 1 đến n\n",
        "n = int(input('n = '))\n",
        "sum = 0\n",
        "for i in range(1,n+1):\n",
        "  if i%2==0:\n",
        "    sum += i\n",
        "print(sum)"
      ]
    },
    {
      "cell_type": "code",
      "execution_count": null,
      "metadata": {
        "colab": {
          "base_uri": "https://localhost:8080/"
        },
        "id": "iukva4opx5VB",
        "outputId": "792e004a-a096-4d39-c9dd-2de76f058729"
      },
      "outputs": [
        {
          "name": "stdout",
          "output_type": "stream",
          "text": [
            "Nhập chuỗi: aaaabaaaaaabbaaa\n",
            "Nhập kí tự cần tìm kiếm: b\n",
            "Số lần xuất hiện của b là : 3\n"
          ]
        }
      ],
      "source": [
        "#Bài 3 :Viết chương trình đếm số lần xuát hiện trong một hoặc nhiều ký tự cho trước trong chuỗi.\n",
        "\n",
        "m = input('Nhập chuỗi: ')\n",
        "n = input('Nhập kí tự cần tìm kiếm: ')\n",
        "s = 0\n",
        "index = m.find(n)\n",
        "while index != -1:\n",
        "    s += 1\n",
        "    m = m[:index] + m[index + len(n):]\n",
        "    index = m.find(n)\n",
        "print('Số lần xuất hiện của',n,'là :',s)\n"
      ]
    },
    {
      "cell_type": "code",
      "execution_count": null,
      "metadata": {
        "id": "Cyu7p9TR0uIY"
      },
      "outputs": [],
      "source": []
    }
  ],
  "metadata": {
    "colab": {
      "provenance": []
    },
    "kernelspec": {
      "display_name": "Python 3",
      "name": "python3"
    },
    "language_info": {
      "codemirror_mode": {
        "name": "ipython",
        "version": 3
      },
      "file_extension": ".py",
      "mimetype": "text/x-python",
      "name": "python",
      "nbconvert_exporter": "python",
      "pygments_lexer": "ipython3",
      "version": "3.9.6"
    }
  },
  "nbformat": 4,
  "nbformat_minor": 0
}
